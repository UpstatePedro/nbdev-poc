{
 "cells": [
  {
   "cell_type": "code",
   "execution_count": null,
   "metadata": {},
   "outputs": [],
   "source": [
    "#| hide\n",
    "from nbdev_poc.core import *"
   ]
  },
  {
   "cell_type": "markdown",
   "metadata": {},
   "source": [
    "# nbdev-poc\n",
    "\n",
    "> Taking NBDev for a joyride"
   ]
  },
  {
   "cell_type": "markdown",
   "metadata": {},
   "source": [
    "## Introduction\n",
    "\n",
    "Here's some introductory text.\n",
    "\n",
    "This project is an exploration of the nbdev development experience.\n",
    "My goal is to understand and document how best to work with nbdev.... by working with nbdev. By the time I'm finished here, I should be able to get up and running with a new project quickly, with published how-to's for all the gotchas and non-obvious tricks to doing what I'd need to do in order to use nbdev in a more production-like environment.\n",
    "\n",
    "Things I want to check out:\n",
    "\n",
    "- What do I need to remember each time I author a new notebook?\n",
    "- Structuring of the docs pages: didn't see anything in the tutorial, so how is this done?\n",
    "- Dependency management for the project: conda & pip\n",
    "- Editing code for modules - can a single notebook push code to two different modules?\n",
    "- Two way sync?? I can edit the module and it will reflect in the notebook?!\n",
    "- Inclusion/exclusion of notebook content in the docs\n",
    "- Docstrings and how they're included in the docs\n",
    "- Running tests => only from notebooks or from modules too? Export test code to a module?\n",
    "- Packaging & pushing to pypi or conda"
   ]
  },
  {
   "cell_type": "markdown",
   "metadata": {},
   "source": [
    "## Install"
   ]
  },
  {
   "cell_type": "markdown",
   "metadata": {},
   "source": [
    "```sh\n",
    "pip install nbdev_poc\n",
    "```"
   ]
  }
 ],
 "metadata": {
  "kernelspec": {
   "display_name": "Python 3 (ipykernel)",
   "language": "python",
   "name": "python3"
  }
 },
 "nbformat": 4,
 "nbformat_minor": 4
}
