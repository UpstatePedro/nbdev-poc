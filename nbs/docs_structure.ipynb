{
 "cells": [
  {
   "cell_type": "markdown",
   "source": [
    "# Structuring the Docs website\n",
    "\n",
    "> How to manage the structure of the auto-generated Docs website"
   ],
   "metadata": {
    "collapsed": false
   }
  },
  {
   "cell_type": "code",
   "execution_count": 1,
   "outputs": [],
   "source": [
    "#| hide\n",
    "from nbdev_poc.core import *"
   ],
   "metadata": {
    "collapsed": false
   }
  },
  {
   "cell_type": "markdown",
   "source": [
    "Turns out this one is pretty simple: docs are included in the website according to the list maintained in `nbs/sidebar.yml`."
   ],
   "metadata": {
    "collapsed": false
   }
  },
  {
   "cell_type": "markdown",
   "source": [
    "- The overall structure of the auto-generated website is driven from `nbs/_quarto.yml`.\n",
    "- The structure of the navigation links is farmed out to a separate file called `nbs/sidebar.yml` which is automatically created by nbdev.\n",
    "\n"
   ],
   "metadata": {
    "collapsed": false
   }
  },
  {
   "cell_type": "markdown",
   "source": [
    "An example of the sidebar.yml taken from the nbdev repo:"
   ],
   "metadata": {
    "collapsed": false
   }
  },
  {
   "cell_type": "markdown",
   "source": [
    "```markdown\n",
    "sidebar:\n",
    "    style: floating\n",
    "    contents:\n",
    "    - auto: \"/*.ipynb\"\n",
    "    - section: Tutorials\n",
    "    contents: tutorials/*\n",
    "    - section: Explanations\n",
    "    contents: explanations/*\n",
    "```"
   ],
   "metadata": {
    "collapsed": false
   }
  },
  {
   "cell_type": "markdown",
   "source": [
    "Here, the content of each section is determined by the contents of a folder.\n",
    "\n",
    "Inside each folder, there is a file called `index.qmd` which defines which folder content is converted into links & website content.\n",
    "\n",
    "The contents of the file look like this:\n",
    "\n",
    "```text\n",
    "---\n",
    "order: 1\n",
    "title: Tutorials\n",
    "listing:\n",
    "  fields: [title, description]\n",
    "  type: table\n",
    "  sort-ui: false\n",
    "  filter-ui: false\n",
    "---\n",
    "\n",
    "Click through to any of these tutorials to get started with nbdev's features.\n",
    "```\n",
    "\n",
    "- As shown above, each section title creates a table of all notebooks in the folder.\n",
    "- The `index.qmd` metadata states that the index page has order = 1, meaning it appears on the landing page for the section.\n",
    "- All notebooks in the folder have a metadata property in their first cell which tells quarto which position the notebook will appear in that section.\n",
    "\n",
    "```markdown\n",
    "# Page title\n",
    "\n",
    "> A catchy sub-title\n",
    "\n",
    "- order: 9\n",
    "```"
   ],
   "metadata": {
    "collapsed": false
   }
  }
 ],
 "metadata": {
  "kernelspec": {
   "display_name": "Python 3",
   "language": "python",
   "name": "python3"
  },
  "language_info": {
   "codemirror_mode": {
    "name": "ipython",
    "version": 2
   },
   "file_extension": ".py",
   "mimetype": "text/x-python",
   "name": "python",
   "nbconvert_exporter": "python",
   "pygments_lexer": "ipython2",
   "version": "2.7.6"
  }
 },
 "nbformat": 4,
 "nbformat_minor": 0
}
