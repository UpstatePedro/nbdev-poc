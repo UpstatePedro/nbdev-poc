{
 "cells": [
  {
   "cell_type": "markdown",
   "source": [
    "# Dependency management in nbdev\n",
    "\n",
    "> How to manage your environment when developing in nbdev"
   ],
   "metadata": {
    "collapsed": false
   },
   "outputs": [
    {
     "ename": "SyntaxError",
     "evalue": "invalid syntax (3257438359.py, line 3)",
     "output_type": "error",
     "traceback": [
      "\u001B[0;36m  Cell \u001B[0;32mIn[1], line 3\u001B[0;36m\u001B[0m\n\u001B[0;31m    > How to manage your environment when developing in nbdev\u001B[0m\n\u001B[0m    ^\u001B[0m\n\u001B[0;31mSyntaxError\u001B[0m\u001B[0;31m:\u001B[0m invalid syntax\n"
     ]
    }
   ],
   "execution_count": 1
  },
  {
   "cell_type": "markdown",
   "source": [
    "Are the nbdev cells needed here?"
   ],
   "metadata": {
    "collapsed": false
   }
  },
  {
   "cell_type": "markdown",
   "source": [
    "Dependency mgmt appears to be one of the missing links for nbdev: whilst it's probably possible to everything you'll need to, it's certainly not as polished as many other parts of the developer experience. Moreover, nbdev's python packaging infrastructure relies on the outdated setup.py, rather than pyproject.toml."
   ],
   "metadata": {
    "collapsed": false
   }
  },
  {
   "cell_type": "markdown",
   "source": [
    "Project dependencies are expected to be listed in the `settings.ini` file. There are several properties from which the project/package dependencies can be populated.\n",
    "- `requirements`: project requirements listed in white-space separated format\n",
    "- `pip_requirements`: requirements provided only to pip (?, but conda environment.yaml also has a pip section... which is this for?)\n",
    "- `conda_requirements`: requirements provided only to conda (presumably for OS dependencies etc.)\n",
    "- `dev_requirements`: developer-requirements for the project\n",
    "\n",
    "`requirements` and `pip_requirements` are read by `setup.py` to build the environment for the pypi package.\n",
    "`requirements` and `conda_requirements` are read by ? to build the environment for the conda package."
   ],
   "metadata": {
    "collapsed": false
   }
  },
  {
   "cell_type": "markdown",
   "source": [
    "[The documentation page for triggering releases](https://nbdev.fast.ai/api/release.html#tagging-a-release) is the closest I can find to a page that documents how environments are to be managed / kept in sync."
   ],
   "metadata": {
    "collapsed": false
   }
  }
 ],
 "metadata": {
  "kernelspec": {
   "display_name": "Python 3",
   "language": "python",
   "name": "python3"
  },
  "language_info": {
   "codemirror_mode": {
    "name": "ipython",
    "version": 2
   },
   "file_extension": ".py",
   "mimetype": "text/x-python",
   "name": "python",
   "nbconvert_exporter": "python",
   "pygments_lexer": "ipython2",
   "version": "2.7.6"
  }
 },
 "nbformat": 4,
 "nbformat_minor": 0
}
